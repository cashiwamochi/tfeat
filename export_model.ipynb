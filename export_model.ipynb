{
 "cells": [
  {
   "cell_type": "code",
   "execution_count": 1,
   "metadata": {},
   "outputs": [],
   "source": [
    "import torchvision as tv\n",
    "import phototour\n",
    "import torch\n",
    "from tqdm import tqdm \n",
    "import numpy as np\n",
    "import torch.nn as nn\n",
    "import math \n",
    "import tfeat_model\n",
    "import torch.optim as optim\n",
    "import torch.nn.functional as F\n",
    "import torch.backends.cudnn as cudnn\n",
    "import os\n",
    "\n",
    "#init tfeat and load the trained weights\n",
    "tfeat = tfeat_model.TNet()\n",
    "\n",
    "models_path = 'pretrained-models'\n",
    "net_name = 'tfeat-liberty'\n",
    "tfeat.load_state_dict(torch.load(os.path.join(models_path,net_name+\".params\"), map_location='cpu'))\n",
    "tfeat.eval()\n",
    "\n",
    "traced_net = torch.jit.trace(tfeat, torch.rand(1, 1, 32, 32))\n",
    "traced_net.save(\"tfeat_model.pt\")"
   ]
  },
  {
   "cell_type": "code",
   "execution_count": null,
   "metadata": {},
   "outputs": [],
   "source": []
  }
 ],
 "metadata": {
  "kernelspec": {
   "display_name": "Python 3",
   "language": "python",
   "name": "python3"
  },
  "language_info": {
   "codemirror_mode": {
    "name": "ipython",
    "version": 3
   },
   "file_extension": ".py",
   "mimetype": "text/x-python",
   "name": "python",
   "nbconvert_exporter": "python",
   "pygments_lexer": "ipython3",
   "version": "3.6.7"
  }
 },
 "nbformat": 4,
 "nbformat_minor": 2
}
